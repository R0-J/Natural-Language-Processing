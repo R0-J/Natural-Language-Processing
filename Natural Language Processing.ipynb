{
 "cells": [
  {
   "cell_type": "code",
   "execution_count": 1,
   "id": "ea378500-41a7-4bbd-af99-f43f466e9090",
   "metadata": {},
   "outputs": [],
   "source": [
    "import nltk"
   ]
  },
  {
   "cell_type": "code",
   "execution_count": 2,
   "id": "86e04c39-4a07-482b-815e-5311e10959a7",
   "metadata": {},
   "outputs": [
    {
     "name": "stdout",
     "output_type": "stream",
     "text": [
      "showing info https://raw.githubusercontent.com/nltk/nltk_data/gh-pages/index.xml\n"
     ]
    },
    {
     "data": {
      "text/plain": [
       "True"
      ]
     },
     "execution_count": 2,
     "metadata": {},
     "output_type": "execute_result"
    }
   ],
   "source": [
    "nltk.download()"
   ]
  },
  {
   "cell_type": "markdown",
   "id": "287cf5ad-fde4-48e6-a84b-d095dc4c4148",
   "metadata": {},
   "source": [
    "# Tokenizers and Stop Words\r\n"
   ]
  },
  {
   "cell_type": "code",
   "execution_count": 3,
   "id": "57e5be52-8eeb-4b28-ab2f-2da1e687e010",
   "metadata": {},
   "outputs": [],
   "source": [
    "sent = 'My name is Roqaiah. I am 24 years old. My favorite subject is Math.'"
   ]
  },
  {
   "cell_type": "code",
   "execution_count": 4,
   "id": "72e18425-e76e-4c40-a3df-287a4e3058b8",
   "metadata": {},
   "outputs": [
    {
     "data": {
      "text/plain": [
       "['My',\n",
       " 'name',\n",
       " 'is',\n",
       " 'Roqaiah',\n",
       " '.',\n",
       " 'I',\n",
       " 'am',\n",
       " '24',\n",
       " 'years',\n",
       " 'old',\n",
       " '.',\n",
       " 'My',\n",
       " 'favorite',\n",
       " 'subject',\n",
       " 'is',\n",
       " 'Math',\n",
       " '.']"
      ]
     },
     "execution_count": 4,
     "metadata": {},
     "output_type": "execute_result"
    }
   ],
   "source": [
    "nltk.word_tokenize(sent)"
   ]
  },
  {
   "cell_type": "code",
   "execution_count": 5,
   "id": "79175910-ba36-46ca-a137-98f4370c967f",
   "metadata": {},
   "outputs": [
    {
     "data": {
      "text/plain": [
       "['My name is Roqaiah.', 'I am 24 years old.', 'My favorite subject is Math.']"
      ]
     },
     "execution_count": 5,
     "metadata": {},
     "output_type": "execute_result"
    }
   ],
   "source": [
    "nltk.sent_tokenize(sent)"
   ]
  },
  {
   "cell_type": "code",
   "execution_count": 6,
   "id": "02cb4637-7a74-445d-8860-a7ffcbab2738",
   "metadata": {},
   "outputs": [
    {
     "data": {
      "text/plain": [
       "['i',\n",
       " 'me',\n",
       " 'my',\n",
       " 'myself',\n",
       " 'we',\n",
       " 'our',\n",
       " 'ours',\n",
       " 'ourselves',\n",
       " 'you',\n",
       " \"you're\",\n",
       " \"you've\",\n",
       " \"you'll\",\n",
       " \"you'd\",\n",
       " 'your',\n",
       " 'yours',\n",
       " 'yourself',\n",
       " 'yourselves',\n",
       " 'he',\n",
       " 'him',\n",
       " 'his',\n",
       " 'himself',\n",
       " 'she',\n",
       " \"she's\",\n",
       " 'her',\n",
       " 'hers',\n",
       " 'herself',\n",
       " 'it',\n",
       " \"it's\",\n",
       " 'its',\n",
       " 'itself',\n",
       " 'they',\n",
       " 'them',\n",
       " 'their',\n",
       " 'theirs',\n",
       " 'themselves',\n",
       " 'what',\n",
       " 'which',\n",
       " 'who',\n",
       " 'whom',\n",
       " 'this',\n",
       " 'that',\n",
       " \"that'll\",\n",
       " 'these',\n",
       " 'those',\n",
       " 'am',\n",
       " 'is',\n",
       " 'are',\n",
       " 'was',\n",
       " 'were',\n",
       " 'be',\n",
       " 'been',\n",
       " 'being',\n",
       " 'have',\n",
       " 'has',\n",
       " 'had',\n",
       " 'having',\n",
       " 'do',\n",
       " 'does',\n",
       " 'did',\n",
       " 'doing',\n",
       " 'a',\n",
       " 'an',\n",
       " 'the',\n",
       " 'and',\n",
       " 'but',\n",
       " 'if',\n",
       " 'or',\n",
       " 'because',\n",
       " 'as',\n",
       " 'until',\n",
       " 'while',\n",
       " 'of',\n",
       " 'at',\n",
       " 'by',\n",
       " 'for',\n",
       " 'with',\n",
       " 'about',\n",
       " 'against',\n",
       " 'between',\n",
       " 'into',\n",
       " 'through',\n",
       " 'during',\n",
       " 'before',\n",
       " 'after',\n",
       " 'above',\n",
       " 'below',\n",
       " 'to',\n",
       " 'from',\n",
       " 'up',\n",
       " 'down',\n",
       " 'in',\n",
       " 'out',\n",
       " 'on',\n",
       " 'off',\n",
       " 'over',\n",
       " 'under',\n",
       " 'again',\n",
       " 'further',\n",
       " 'then',\n",
       " 'once',\n",
       " 'here',\n",
       " 'there',\n",
       " 'when',\n",
       " 'where',\n",
       " 'why',\n",
       " 'how',\n",
       " 'all',\n",
       " 'any',\n",
       " 'both',\n",
       " 'each',\n",
       " 'few',\n",
       " 'more',\n",
       " 'most',\n",
       " 'other',\n",
       " 'some',\n",
       " 'such',\n",
       " 'no',\n",
       " 'nor',\n",
       " 'not',\n",
       " 'only',\n",
       " 'own',\n",
       " 'same',\n",
       " 'so',\n",
       " 'than',\n",
       " 'too',\n",
       " 'very',\n",
       " 's',\n",
       " 't',\n",
       " 'can',\n",
       " 'will',\n",
       " 'just',\n",
       " 'don',\n",
       " \"don't\",\n",
       " 'should',\n",
       " \"should've\",\n",
       " 'now',\n",
       " 'd',\n",
       " 'll',\n",
       " 'm',\n",
       " 'o',\n",
       " 're',\n",
       " 've',\n",
       " 'y',\n",
       " 'ain',\n",
       " 'aren',\n",
       " \"aren't\",\n",
       " 'couldn',\n",
       " \"couldn't\",\n",
       " 'didn',\n",
       " \"didn't\",\n",
       " 'doesn',\n",
       " \"doesn't\",\n",
       " 'hadn',\n",
       " \"hadn't\",\n",
       " 'hasn',\n",
       " \"hasn't\",\n",
       " 'haven',\n",
       " \"haven't\",\n",
       " 'isn',\n",
       " \"isn't\",\n",
       " 'ma',\n",
       " 'mightn',\n",
       " \"mightn't\",\n",
       " 'mustn',\n",
       " \"mustn't\",\n",
       " 'needn',\n",
       " \"needn't\",\n",
       " 'shan',\n",
       " \"shan't\",\n",
       " 'shouldn',\n",
       " \"shouldn't\",\n",
       " 'wasn',\n",
       " \"wasn't\",\n",
       " 'weren',\n",
       " \"weren't\",\n",
       " 'won',\n",
       " \"won't\",\n",
       " 'wouldn',\n",
       " \"wouldn't\"]"
      ]
     },
     "execution_count": 6,
     "metadata": {},
     "output_type": "execute_result"
    }
   ],
   "source": [
    "from nltk.corpus import stopwords\n",
    "stopwords.words('english')"
   ]
  },
  {
   "cell_type": "code",
   "execution_count": 7,
   "id": "4ca43dbf-2cfb-4e19-9c39-45974290921e",
   "metadata": {},
   "outputs": [
    {
     "data": {
      "text/plain": [
       "['My',\n",
       " 'name',\n",
       " 'Roqaiah',\n",
       " '.',\n",
       " 'I',\n",
       " '24',\n",
       " 'years',\n",
       " 'old',\n",
       " '.',\n",
       " 'My',\n",
       " 'favorite',\n",
       " 'subject',\n",
       " 'Math',\n",
       " '.']"
      ]
     },
     "execution_count": 7,
     "metadata": {},
     "output_type": "execute_result"
    }
   ],
   "source": [
    "stopwords_ = stopwords.words('english')\n",
    "[w for w in nltk.word_tokenize(sent) if w not in stopwords_]"
   ]
  },
  {
   "cell_type": "markdown",
   "id": "b1af5375-fd6b-48d9-8123-8f7c7f369ebf",
   "metadata": {},
   "source": [
    "# Stemming and Lemmatization\r\n"
   ]
  },
  {
   "cell_type": "code",
   "execution_count": 12,
   "id": "cf08261e-00b1-43c8-965a-3be2ee4e57bb",
   "metadata": {},
   "outputs": [],
   "source": [
    "from nltk.stem import PorterStemmer, WordNetLemmatizer\n",
    "from nltk.corpus import wordnet "
   ]
  },
  {
   "cell_type": "code",
   "execution_count": 8,
   "id": "d74384d5-99d4-43bc-883e-61d93056c348",
   "metadata": {},
   "outputs": [
    {
     "data": {
      "text/plain": [
       "'go'"
      ]
     },
     "execution_count": 8,
     "metadata": {},
     "output_type": "execute_result"
    }
   ],
   "source": [
    "ps = PorterStemmer()\n",
    "ps.stem('going')"
   ]
  },
  {
   "cell_type": "code",
   "execution_count": 9,
   "id": "4629867f-ca46-4b05-a809-2e65ba7f49f7",
   "metadata": {},
   "outputs": [
    {
     "data": {
      "text/plain": [
       "'play'"
      ]
     },
     "execution_count": 9,
     "metadata": {},
     "output_type": "execute_result"
    }
   ],
   "source": [
    "ps.stem('played')\n"
   ]
  },
  {
   "cell_type": "code",
   "execution_count": 10,
   "id": "459224e0-bf1f-4f11-b2c8-5b767b8e9039",
   "metadata": {},
   "outputs": [
    {
     "data": {
      "text/plain": [
       "'read'"
      ]
     },
     "execution_count": 10,
     "metadata": {},
     "output_type": "execute_result"
    }
   ],
   "source": [
    "ps.stem('reads')\n"
   ]
  },
  {
   "cell_type": "code",
   "execution_count": 13,
   "id": "77384d62-7668-4614-ab81-0062a7a945d6",
   "metadata": {},
   "outputs": [
    {
     "data": {
      "text/plain": [
       "'go'"
      ]
     },
     "execution_count": 13,
     "metadata": {},
     "output_type": "execute_result"
    }
   ],
   "source": [
    "lemma = WordNetLemmatizer()\n",
    "# word + type\n",
    "lemma.lemmatize('went', wordnet.VERB)"
   ]
  },
  {
   "cell_type": "code",
   "execution_count": 15,
   "id": "ffe33678-c74c-4786-9d10-12b95e1d8c35",
   "metadata": {},
   "outputs": [
    {
     "data": {
      "text/plain": [
       "'good'"
      ]
     },
     "execution_count": 15,
     "metadata": {},
     "output_type": "execute_result"
    }
   ],
   "source": [
    "lemma = WordNetLemmatizer()\n",
    "# word + type\n",
    "lemma.lemmatize('better', wordnet.ADJ)"
   ]
  },
  {
   "cell_type": "markdown",
   "id": "e1d71337-8da7-4a79-9cae-6b5b54219896",
   "metadata": {},
   "source": [
    "# Word net\r\n"
   ]
  },
  {
   "cell_type": "code",
   "execution_count": 16,
   "id": "1dcfbef6-346c-415b-b14f-dd2231c9bde0",
   "metadata": {},
   "outputs": [],
   "source": [
    "from nltk.corpus import wordnet"
   ]
  },
  {
   "cell_type": "code",
   "execution_count": 27,
   "id": "6d154b24-80a8-453a-85dc-8086156a7ba9",
   "metadata": {},
   "outputs": [
    {
     "data": {
      "text/plain": [
       "[Synset('go.n.01'),\n",
       " Synset('adam.n.03'),\n",
       " Synset('crack.n.09'),\n",
       " Synset('go.n.04'),\n",
       " Synset('travel.v.01'),\n",
       " Synset('go.v.02'),\n",
       " Synset('go.v.03'),\n",
       " Synset('become.v.01'),\n",
       " Synset('go.v.05'),\n",
       " Synset('run.v.05'),\n",
       " Synset('run.v.03'),\n",
       " Synset('proceed.v.04'),\n",
       " Synset('go.v.09'),\n",
       " Synset('go.v.10'),\n",
       " Synset('sound.v.02'),\n",
       " Synset('function.v.01'),\n",
       " Synset('run_low.v.01'),\n",
       " Synset('move.v.13'),\n",
       " Synset('survive.v.01'),\n",
       " Synset('go.v.16'),\n",
       " Synset('die.v.01'),\n",
       " Synset('belong.v.03'),\n",
       " Synset('go.v.19'),\n",
       " Synset('start.v.09'),\n",
       " Synset('move.v.15'),\n",
       " Synset('go.v.22'),\n",
       " Synset('go.v.23'),\n",
       " Synset('blend.v.02'),\n",
       " Synset('go.v.25'),\n",
       " Synset('fit.v.02'),\n",
       " Synset('rifle.v.02'),\n",
       " Synset('go.v.28'),\n",
       " Synset('plump.v.04'),\n",
       " Synset('fail.v.04'),\n",
       " Synset('go.a.01')]"
      ]
     },
     "execution_count": 27,
     "metadata": {},
     "output_type": "execute_result"
    }
   ],
   "source": [
    "# synonym = مرادف\n",
    "# antonym = ضد\n",
    "\n",
    "syns = wordnet.synsets('go')\n",
    "syns"
   ]
  },
  {
   "cell_type": "code",
   "execution_count": 28,
   "id": "dae8348b-1d48-4d74-8316-979b9bdc1c56",
   "metadata": {},
   "outputs": [
    {
     "data": {
      "text/plain": [
       "Synset('go.n.01')"
      ]
     },
     "execution_count": 28,
     "metadata": {},
     "output_type": "execute_result"
    }
   ],
   "source": [
    "syns[0]"
   ]
  },
  {
   "cell_type": "code",
   "execution_count": 29,
   "id": "986c6ab3-e7a8-4d5a-a198-925a3b000248",
   "metadata": {},
   "outputs": [
    {
     "data": {
      "text/plain": [
       "'go.n.01'"
      ]
     },
     "execution_count": 29,
     "metadata": {},
     "output_type": "execute_result"
    }
   ],
   "source": [
    "syns[0].name()"
   ]
  },
  {
   "cell_type": "code",
   "execution_count": 30,
   "id": "fbaaab20-9cff-4446-8cd0-86a8c8caed6a",
   "metadata": {},
   "outputs": [
    {
     "data": {
      "text/plain": [
       "'a time for working (after which you will be relieved by someone else)'"
      ]
     },
     "execution_count": 30,
     "metadata": {},
     "output_type": "execute_result"
    }
   ],
   "source": [
    "syns[0].definition()"
   ]
  },
  {
   "cell_type": "code",
   "execution_count": 31,
   "id": "e3256419-c7bf-4c96-8060-49c062951149",
   "metadata": {},
   "outputs": [
    {
     "data": {
      "text/plain": [
       "[\"it's my go\", 'a spell of work']"
      ]
     },
     "execution_count": 31,
     "metadata": {},
     "output_type": "execute_result"
    }
   ],
   "source": [
    "syns[0].examples()"
   ]
  },
  {
   "cell_type": "code",
   "execution_count": 32,
   "id": "a105142e-fa6b-462e-912a-961968ca009c",
   "metadata": {},
   "outputs": [
    {
     "data": {
      "text/plain": [
       "[Lemma('go.n.01.go'),\n",
       " Lemma('go.n.01.spell'),\n",
       " Lemma('go.n.01.tour'),\n",
       " Lemma('go.n.01.turn')]"
      ]
     },
     "execution_count": 32,
     "metadata": {},
     "output_type": "execute_result"
    }
   ],
   "source": [
    "syns[0].lemmas()"
   ]
  },
  {
   "cell_type": "code",
   "execution_count": 33,
   "id": "89be9c74-c92a-4bb1-8d76-e7d26e70ddc0",
   "metadata": {},
   "outputs": [],
   "source": [
    "synonyms = []\n",
    "antonyms = []\n",
    "\n",
    "for syn in wordnet.synsets('good'):\n",
    "    for l in syn.lemmas():\n",
    "        synonyms.append(l.name())\n",
    "        if l.antonyms():\n",
    "            antonyms.append(l.antonyms()[0].name())"
   ]
  },
  {
   "cell_type": "code",
   "execution_count": 34,
   "id": "911aa4ef-1f23-414b-a6ca-a67b79d0a898",
   "metadata": {},
   "outputs": [
    {
     "name": "stdout",
     "output_type": "stream",
     "text": [
      "{'undecomposed', 'honorable', 'goodness', 'practiced', 'respectable', 'in_force', 'commodity', 'in_effect', 'effective', 'safe', 'just', 'upright', 'thoroughly', 'honest', 'trade_good', 'salutary', 'near', 'estimable', 'expert', 'ripe', 'beneficial', 'dependable', 'adept', 'unspoiled', 'soundly', 'unspoilt', 'proficient', 'secure', 'sound', 'full', 'dear', 'skillful', 'serious', 'right', 'skilful', 'good', 'well'}\n"
     ]
    }
   ],
   "source": [
    "print(set(synonyms))"
   ]
  },
  {
   "cell_type": "code",
   "execution_count": 35,
   "id": "0dae45cf-4c28-45c9-b08d-a58063f5c8f0",
   "metadata": {},
   "outputs": [
    {
     "name": "stdout",
     "output_type": "stream",
     "text": [
      "{'bad', 'evilness', 'badness', 'ill', 'evil'}\n"
     ]
    }
   ],
   "source": [
    "print(set(antonyms))"
   ]
  },
  {
   "cell_type": "code",
   "execution_count": 37,
   "id": "4fb2478b-d0d0-4d37-863e-533f6b5ad366",
   "metadata": {},
   "outputs": [
    {
     "data": {
      "text/plain": [
       "0.32"
      ]
     },
     "execution_count": 37,
     "metadata": {},
     "output_type": "execute_result"
    }
   ],
   "source": [
    "w1= wordnet.synset('ship.n.01')\n",
    "w2= wordnet.synset('cat.n.01')\n",
    "w1.wup_similarity(w2)"
   ]
  },
  {
   "cell_type": "code",
   "execution_count": 38,
   "id": "14976690-2772-4f5b-9a60-fe107084be95",
   "metadata": {},
   "outputs": [
    {
     "data": {
      "text/plain": [
       "0.8571428571428571"
      ]
     },
     "execution_count": 38,
     "metadata": {},
     "output_type": "execute_result"
    }
   ],
   "source": [
    "w1= wordnet.synset('dog.n.01')\n",
    "w2= wordnet.synset('cat.n.01')\n",
    "w1.wup_similarity(w2)"
   ]
  },
  {
   "cell_type": "markdown",
   "id": "725d9db0-1996-4c20-bf76-6c09c3d740a4",
   "metadata": {},
   "source": [
    "# Part of Speech Tagging\n"
   ]
  },
  {
   "cell_type": "markdown",
   "id": "bdf31623-f359-4559-ac1d-e0a4dac12ab2",
   "metadata": {},
   "source": [
    "#### NLTK POS Tags Examples are as below:\n",
    "\n",
    "Abbreviation\tMeaning\n",
    "\n",
    "CC\tcoordinating conjunction\n",
    "\n",
    "CD\tcardinal digit\n",
    "\n",
    "DT\tdeterminer\n",
    "\n",
    "EX\texistential there\n",
    "\n",
    "FW\tforeign word\n",
    "\n",
    "IN\tpreposition/subordinating conjunction\n",
    "\n",
    "JJ\tThis NLTK POS Tag is an adjective (large)\n",
    "\n",
    "JJR\tadjective, comparative (larger)\n",
    "\n",
    "JJS\tadjective, superlative (largest)\n",
    "\n",
    "LS\tlist market\n",
    "\n",
    "MD\tmodal (could, will)\n",
    "\n",
    "NN\tnoun, singular (cat, tree)\n",
    "\n",
    "NNS\tnoun plural (desks)\n",
    "\n",
    "NNP\tproper noun, singular (sarah)\n",
    "\n",
    "NNPS\tproper noun, plural (indians or americans)\n",
    "\n",
    "PDT\tpredeterminer (all, both, half)\n",
    "\n",
    "POS\tpossessive ending (parent\\ ‘s)\n",
    "\n",
    "PRP\tpersonal pronoun (hers, herself, him, himself)\n",
    "\n",
    "PRP$\tpossessive pronoun (her, his, mine, my, our )\n",
    "\n",
    "RB\tadverb (occasionally, swiftly)\n",
    "\n",
    "RBR\tadverb, comparative (greater)\n",
    "\n",
    "RBS\tadverb, superlative (biggest)\n",
    "\n",
    "RP\tparticle (about)\n",
    "\n",
    "TO\tinfinite marker (to)\n",
    "\n",
    "UH\tinterjection (goodbye)\n",
    "\n",
    "VB\tverb (ask)\n",
    "\n",
    "VBG\tverb gerund (judging)\n",
    "\n",
    "VBD\tverb past tense (pleaded)\n",
    "\n",
    "VBN\tverb past participle (reunified)\n",
    "\n",
    "VBP\tverb, present tense not 3rd person singular(wrap)\n",
    "\n",
    "VBZ\tverb, present tense with 3rd person singular (bases)\n",
    "\n",
    "WDT\twh-determiner (that, what)\n",
    "\n",
    "WP\twh- pronoun (who)\n",
    "\n",
    "WRB\twh- adverb (how)"
   ]
  },
  {
   "cell_type": "markdown",
   "id": "1edfcd8a-5981-43d0-a469-5395e5ae9528",
   "metadata": {},
   "source": [
    "https://www.guru99.com/pos-tagging-chunking-nltk.html\n",
    "\n",
    "https://www.ling.upenn.edu/courses/Fall_2003/ling001/penn_treebank_pos.html"
   ]
  },
  {
   "cell_type": "code",
   "execution_count": 5,
   "id": "8c24e6bc-f7d9-4d68-b90d-7a440f557f13",
   "metadata": {},
   "outputs": [
    {
     "data": {
      "text/plain": [
       "[[('A', 'DT'),\n",
       "  ('prison', 'NN'),\n",
       "  ('riot', 'NN'),\n",
       "  ('left', 'VBD'),\n",
       "  ('seven', 'CD'),\n",
       "  ('members', 'NNS'),\n",
       "  ('of', 'IN'),\n",
       "  ('staff', 'NN'),\n",
       "  ('needing', 'VBG'),\n",
       "  ('hospital', 'NN'),\n",
       "  ('treatment', 'NN'),\n",
       "  ('earlier', 'RBR'),\n",
       "  ('this', 'DT'),\n",
       "  ('month', 'NN'),\n",
       "  (',', ','),\n",
       "  ('the', 'DT'),\n",
       "  ('BBC', 'NNP'),\n",
       "  ('learns', 'NNS')]]"
      ]
     },
     "execution_count": 5,
     "metadata": {},
     "output_type": "execute_result"
    }
   ],
   "source": [
    "import nltk\n",
    "original = \"A prison riot left seven members of staff needing hospital treatment earlier this month, the BBC learns\"\n",
    "\n",
    "def preparing(text):\n",
    "    sentences = nltk.sent_tokenize(text)\n",
    "    sentences = [nltk.word_tokenize(sent) for sent in sentences]\n",
    "    sentences = [nltk.pos_tag(sent) for sent in sentences]\n",
    "    return sentences\n",
    "    \n",
    "preparing(original)"
   ]
  },
  {
   "cell_type": "markdown",
   "id": "b8ef992d-58e2-46b2-9b5c-c4e19c229b52",
   "metadata": {},
   "source": [
    "# Chunking"
   ]
  },
  {
   "attachments": {
    "d0a189f4-ae9f-4d64-b2a8-65059b6f588c.png": {
     "image/png": "[encoded data removed]"
    }
   },
   "cell_type": "markdown",
   "id": "06c29e1f-0b13-4ffb-97da-e9edddfc3105",
   "metadata": {},
   "source": [
    "![image.png](attachment:d0a189f4-ae9f-4d64-b2a8-65059b6f588c.png)"
   ]
  },
  {
   "cell_type": "code",
   "execution_count": 10,
   "id": "8f2b7f12-d062-41e8-bfd5-be2683ac8671",
   "metadata": {},
   "outputs": [
    {
     "name": "stdout",
     "output_type": "stream",
     "text": [
      "POS_TAGS:  [[('A', 'DT'), ('prison', 'NN'), ('riot', 'NN'), ('left', 'VBD'), ('seven', 'CD'), ('members', 'NNS'), ('of', 'IN'), ('staff', 'NN'), ('needing', 'VBG'), ('hospital', 'NN'), ('treatment', 'NN'), ('earlier', 'RBR'), ('this', 'DT'), ('month', 'NN'), (',', ','), ('the', 'DT'), ('BBC', 'NNP'), ('learns', 'NNS')]] \n",
      "\n",
      "original:  A prison riot left seven members of staff needing hospital treatment earlier this month, the BBC learns \n",
      "\n",
      "prison riot\n",
      "hospital treatment\n",
      "BBC\n"
     ]
    }
   ],
   "source": [
    "def chunk(sentence):\n",
    "    chunktoExtract = \"\"\"\n",
    "    NP: {<NNP>*}\n",
    "        {<NN><NN>}\"\"\"\n",
    "    parser = nltk.RegexpParser(chunktoExtract)\n",
    "    result = parser.parse(sentence)\n",
    "    for subtree in result.subtrees():\n",
    "        if subtree.label()=='NP':\n",
    "            t = subtree\n",
    "            t = ' '.join(word for word, pos in t.leaves())\n",
    "            print(t)\n",
    "\n",
    "sentences = preparing(original)\n",
    "print('POS_TAGS: ',sentences,'\\n')\n",
    "\n",
    "print('original: ',original,'\\n')\n",
    "\n",
    "for sentence in sentences:\n",
    "    chunk(sentence)"
   ]
  },
  {
   "cell_type": "code",
   "execution_count": 12,
   "id": "9295986c-ce04-4d06-854b-7a20eea63223",
   "metadata": {},
   "outputs": [
    {
     "name": "stdout",
     "output_type": "stream",
     "text": [
      "POS_TAGS:  [[('A', 'DT'), ('prison', 'NN'), ('riot', 'NN'), ('left', 'VBD'), ('seven', 'CD'), ('members', 'NNS'), ('of', 'IN'), ('staff', 'NN'), ('needing', 'VBG'), ('hospital', 'NN'), ('treatment', 'NN'), ('earlier', 'RBR'), ('this', 'DT'), ('month', 'NN'), (',', ','), ('the', 'DT'), ('best', 'JJS'), ('learns', 'NNS')]] \n",
      "\n",
      "original:  A prison riot left seven members of staff needing hospital treatment earlier this month, the best learns \n",
      "\n",
      "prison riot\n",
      "members\n",
      "hospital treatment\n",
      "the best learns\n"
     ]
    }
   ],
   "source": [
    "original = \"A prison riot left seven members of staff needing hospital treatment earlier this month, the best learns\"\n",
    "\n",
    "def chunk(sentence):\n",
    "    chunktoExtract = \"\"\"\n",
    "    NP: {<NNP>?}\n",
    "        {<DT>?<JJS>?<NNS>} # الاستفهام معناها موجود او غير موجود عادي كمل\n",
    "        {<NN><NN>}\"\"\"\n",
    "    parser = nltk.RegexpParser(chunktoExtract)\n",
    "    result = parser.parse(sentence)\n",
    "    for subtree in result.subtrees():\n",
    "        if subtree.label()=='NP':\n",
    "            t = subtree\n",
    "            t = ' '.join(word for word, pos in t.leaves())\n",
    "            print(t)\n",
    "\n",
    "sentences = preparing(original)\n",
    "print('POS_TAGS: ',sentences,'\\n')\n",
    "\n",
    "print('original: ',original,'\\n')\n",
    "\n",
    "for sentence in sentences:\n",
    "    chunk(sentence)"
   ]
  },
  {
   "cell_type": "markdown",
   "id": "419021c3-da3c-45c0-896a-57fdfd13adeb",
   "metadata": {},
   "source": [
    "# Chinking"
   ]
  },
  {
   "cell_type": "code",
   "execution_count": 15,
   "id": "2c4c061c-947a-4326-a384-86a8ee3bf8ea",
   "metadata": {},
   "outputs": [
    {
     "name": "stdout",
     "output_type": "stream",
     "text": [
      "POS_TAGS:  [[('A', 'DT'), ('prison', 'NN'), ('riot', 'NN'), ('left', 'VBD'), ('seven', 'CD'), ('members', 'NNS'), ('of', 'IN'), ('staff', 'NN'), ('needing', 'VBG'), ('hospital', 'NN'), ('treatment', 'NN'), ('earlier', 'RBR'), ('this', 'DT'), ('month', 'NN'), (',', ','), ('the', 'DT'), ('BBC', 'NNP'), ('learns', 'NNS')]] \n",
      "\n",
      "original:  A prison riot left seven members of staff needing hospital treatment earlier this month, the BBC learns \n",
      "\n",
      "A prison riot\n",
      "seven members\n",
      "staff needing hospital treatment earlier this month , the BBC learns\n"
     ]
    }
   ],
   "source": [
    "original = \"A prison riot left seven members of staff needing hospital treatment earlier this month, the BBC learns\"\n",
    "\n",
    "def chink(sentence):\n",
    "    chinktoExtract = \"\"\"\n",
    "    NP: {<.*>+}\n",
    "        }<VBD | IN>+{ \"\"\"\n",
    "    parser = nltk.RegexpParser(chinktoExtract)\n",
    "    result = parser.parse(sentence)\n",
    "    for subtree in result.subtrees():\n",
    "        if subtree.label()=='NP':\n",
    "            t = subtree\n",
    "            t = ' '.join(word for word, pos in t.leaves())\n",
    "            print(t)\n",
    "\n",
    "sentences = preparing(original)\n",
    "print('POS_TAGS: ',sentences,'\\n')\n",
    "\n",
    "print('original: ',original,'\\n')\n",
    "\n",
    "for sentence in sentences:\n",
    "    chink(sentence)"
   ]
  },
  {
   "cell_type": "markdown",
   "id": "0f613c30-2a28-4043-9cc5-5f1769519621",
   "metadata": {},
   "source": [
    "# Vectorization\n"
   ]
  },
  {
   "cell_type": "code",
   "execution_count": 2,
   "id": "7bb8b9d8-4722-4a25-b02d-18bb3093a622",
   "metadata": {},
   "outputs": [
    {
     "data": {
      "text/plain": [
       "array([[0, 0, 0, 1, 1, 1, 2, 1, 0, 0, 1],\n",
       "       [1, 1, 1, 0, 0, 1, 0, 0, 1, 1, 0]], dtype=int64)"
      ]
     },
     "execution_count": 2,
     "metadata": {},
     "output_type": "execute_result"
    }
   ],
   "source": [
    "from sklearn.feature_extraction.text import CountVectorizer\n",
    "\n",
    "cv = CountVectorizer()\n",
    "x = ['he likes likes to play football everday', 'he and she are the best']\n",
    "cv.fit_transform(x).toarray()\n"
   ]
  },
  {
   "cell_type": "code",
   "execution_count": 3,
   "id": "fcfaf590-b0ec-48ed-9781-4eae156061e0",
   "metadata": {},
   "outputs": [
    {
     "data": {
      "text/plain": [
       "array(['and', 'are', 'best', 'everday', 'football', 'he', 'likes', 'play',\n",
       "       'she', 'the', 'to'], dtype=object)"
      ]
     },
     "execution_count": 3,
     "metadata": {},
     "output_type": "execute_result"
    }
   ],
   "source": [
    "cv.get_feature_names_out()"
   ]
  },
  {
   "cell_type": "code",
   "execution_count": 4,
   "id": "e165dcdb-0ccd-42b1-9258-9e745a2f6181",
   "metadata": {},
   "outputs": [
    {
     "data": {
      "text/html": [
       "<div>\n",
       "<style scoped>\n",
       "    .dataframe tbody tr th:only-of-type {\n",
       "        vertical-align: middle;\n",
       "    }\n",
       "\n",
       "    .dataframe tbody tr th {\n",
       "        vertical-align: top;\n",
       "    }\n",
       "\n",
       "    .dataframe thead th {\n",
       "        text-align: right;\n",
       "    }\n",
       "</style>\n",
       "<table border=\"1\" class=\"dataframe\">\n",
       "  <thead>\n",
       "    <tr style=\"text-align: right;\">\n",
       "      <th></th>\n",
       "      <th>and</th>\n",
       "      <th>are</th>\n",
       "      <th>best</th>\n",
       "      <th>everday</th>\n",
       "      <th>football</th>\n",
       "      <th>he</th>\n",
       "      <th>likes</th>\n",
       "      <th>play</th>\n",
       "      <th>she</th>\n",
       "      <th>the</th>\n",
       "      <th>to</th>\n",
       "    </tr>\n",
       "  </thead>\n",
       "  <tbody>\n",
       "    <tr>\n",
       "      <th>0</th>\n",
       "      <td>0</td>\n",
       "      <td>0</td>\n",
       "      <td>0</td>\n",
       "      <td>1</td>\n",
       "      <td>1</td>\n",
       "      <td>1</td>\n",
       "      <td>2</td>\n",
       "      <td>1</td>\n",
       "      <td>0</td>\n",
       "      <td>0</td>\n",
       "      <td>1</td>\n",
       "    </tr>\n",
       "    <tr>\n",
       "      <th>1</th>\n",
       "      <td>1</td>\n",
       "      <td>1</td>\n",
       "      <td>1</td>\n",
       "      <td>0</td>\n",
       "      <td>0</td>\n",
       "      <td>1</td>\n",
       "      <td>0</td>\n",
       "      <td>0</td>\n",
       "      <td>1</td>\n",
       "      <td>1</td>\n",
       "      <td>0</td>\n",
       "    </tr>\n",
       "  </tbody>\n",
       "</table>\n",
       "</div>"
      ],
      "text/plain": [
       "   and  are  best  everday  football  he  likes  play  she  the  to\n",
       "0    0    0     0        1         1   1      2     1    0    0   1\n",
       "1    1    1     1        0         0   1      0     0    1    1   0"
      ]
     },
     "execution_count": 4,
     "metadata": {},
     "output_type": "execute_result"
    }
   ],
   "source": [
    "import pandas as pd\n",
    "\n",
    "pd.DataFrame(cv.fit_transform(x).toarray(), columns = cv.get_feature_names_out())"
   ]
  },
  {
   "cell_type": "markdown",
   "id": "371407bf-b06a-4a6d-a3ce-98efa41fa850",
   "metadata": {},
   "source": [
    "# TF-IDF Term Frequency - Inverse Document Frequency\r\n"
   ]
  },
  {
   "cell_type": "code",
   "execution_count": 8,
   "id": "a8198a92-8f1a-4b14-971b-af6b3e72a3bb",
   "metadata": {},
   "outputs": [],
   "source": [
    "from sklearn.feature_extraction.text import CountVectorizer, TfidfVectorizer\n",
    "import pandas as pd\n",
    "\n",
    "\n",
    "def create_table(lst, vect):\n",
    "    return pd.DataFrame(vect.fit_transform(lst).toarray(), columns = vect.get_feature_names_out())"
   ]
  },
  {
   "cell_type": "code",
   "execution_count": 9,
   "id": "191a9ba6-7b39-4772-844a-86d95b00b93f",
   "metadata": {},
   "outputs": [
    {
     "data": {
      "text/html": [
       "<div>\n",
       "<style scoped>\n",
       "    .dataframe tbody tr th:only-of-type {\n",
       "        vertical-align: middle;\n",
       "    }\n",
       "\n",
       "    .dataframe tbody tr th {\n",
       "        vertical-align: top;\n",
       "    }\n",
       "\n",
       "    .dataframe thead th {\n",
       "        text-align: right;\n",
       "    }\n",
       "</style>\n",
       "<table border=\"1\" class=\"dataframe\">\n",
       "  <thead>\n",
       "    <tr style=\"text-align: right;\">\n",
       "      <th></th>\n",
       "      <th>alot</th>\n",
       "      <th>also</th>\n",
       "      <th>eat</th>\n",
       "      <th>football</th>\n",
       "      <th>he</th>\n",
       "      <th>likes</th>\n",
       "      <th>mach</th>\n",
       "      <th>play</th>\n",
       "      <th>so</th>\n",
       "      <th>to</th>\n",
       "    </tr>\n",
       "  </thead>\n",
       "  <tbody>\n",
       "    <tr>\n",
       "      <th>0</th>\n",
       "      <td>0</td>\n",
       "      <td>0</td>\n",
       "      <td>0</td>\n",
       "      <td>1</td>\n",
       "      <td>1</td>\n",
       "      <td>1</td>\n",
       "      <td>1</td>\n",
       "      <td>1</td>\n",
       "      <td>2</td>\n",
       "      <td>1</td>\n",
       "    </tr>\n",
       "    <tr>\n",
       "      <th>1</th>\n",
       "      <td>1</td>\n",
       "      <td>1</td>\n",
       "      <td>1</td>\n",
       "      <td>0</td>\n",
       "      <td>1</td>\n",
       "      <td>0</td>\n",
       "      <td>0</td>\n",
       "      <td>0</td>\n",
       "      <td>0</td>\n",
       "      <td>0</td>\n",
       "    </tr>\n",
       "  </tbody>\n",
       "</table>\n",
       "</div>"
      ],
      "text/plain": [
       "   alot  also  eat  football  he  likes  mach  play  so  to\n",
       "0     0     0    0         1   1      1     1     1   2   1\n",
       "1     1     1    1         0   1      0     0     0   0   0"
      ]
     },
     "execution_count": 9,
     "metadata": {},
     "output_type": "execute_result"
    }
   ],
   "source": [
    "text1 = ['He likes to play football so so mach', 'He also eat alot']\n",
    "\n",
    "cv = CountVectorizer()\n",
    "\n",
    "create_table(text1, cv)"
   ]
  },
  {
   "cell_type": "code",
   "execution_count": 11,
   "id": "ae8c4489-f33e-4d3d-b8df-86f11aeb9859",
   "metadata": {},
   "outputs": [
    {
     "data": {
      "text/html": [
       "<div>\n",
       "<style scoped>\n",
       "    .dataframe tbody tr th:only-of-type {\n",
       "        vertical-align: middle;\n",
       "    }\n",
       "\n",
       "    .dataframe tbody tr th {\n",
       "        vertical-align: top;\n",
       "    }\n",
       "\n",
       "    .dataframe thead th {\n",
       "        text-align: right;\n",
       "    }\n",
       "</style>\n",
       "<table border=\"1\" class=\"dataframe\">\n",
       "  <thead>\n",
       "    <tr style=\"text-align: right;\">\n",
       "      <th></th>\n",
       "      <th>alot</th>\n",
       "      <th>also</th>\n",
       "      <th>eat</th>\n",
       "      <th>football</th>\n",
       "      <th>he</th>\n",
       "      <th>likes</th>\n",
       "      <th>mach</th>\n",
       "      <th>play</th>\n",
       "      <th>so</th>\n",
       "      <th>to</th>\n",
       "    </tr>\n",
       "  </thead>\n",
       "  <tbody>\n",
       "    <tr>\n",
       "      <th>0</th>\n",
       "      <td>0.000000</td>\n",
       "      <td>0.000000</td>\n",
       "      <td>0.000000</td>\n",
       "      <td>0.324336</td>\n",
       "      <td>0.230768</td>\n",
       "      <td>0.324336</td>\n",
       "      <td>0.324336</td>\n",
       "      <td>0.324336</td>\n",
       "      <td>0.648673</td>\n",
       "      <td>0.324336</td>\n",
       "    </tr>\n",
       "    <tr>\n",
       "      <th>1</th>\n",
       "      <td>0.534046</td>\n",
       "      <td>0.534046</td>\n",
       "      <td>0.534046</td>\n",
       "      <td>0.000000</td>\n",
       "      <td>0.379978</td>\n",
       "      <td>0.000000</td>\n",
       "      <td>0.000000</td>\n",
       "      <td>0.000000</td>\n",
       "      <td>0.000000</td>\n",
       "      <td>0.000000</td>\n",
       "    </tr>\n",
       "  </tbody>\n",
       "</table>\n",
       "</div>"
      ],
      "text/plain": [
       "       alot      also       eat  football        he     likes      mach  \\\n",
       "0  0.000000  0.000000  0.000000  0.324336  0.230768  0.324336  0.324336   \n",
       "1  0.534046  0.534046  0.534046  0.000000  0.379978  0.000000  0.000000   \n",
       "\n",
       "       play        so        to  \n",
       "0  0.324336  0.648673  0.324336  \n",
       "1  0.000000  0.000000  0.000000  "
      ]
     },
     "execution_count": 11,
     "metadata": {},
     "output_type": "execute_result"
    }
   ],
   "source": [
    "text1 = ['He likes to play football so so mach', 'He also eat alot']\n",
    "\n",
    "tv = TfidfVectorizer()\n",
    "\n",
    "create_table(text1, tv)"
   ]
  },
  {
   "cell_type": "code",
   "execution_count": 12,
   "id": "d8f0767e-d93e-415d-bd0b-34f0d2a1cb9b",
   "metadata": {},
   "outputs": [
    {
     "data": {
      "text/html": [
       "<div>\n",
       "<style scoped>\n",
       "    .dataframe tbody tr th:only-of-type {\n",
       "        vertical-align: middle;\n",
       "    }\n",
       "\n",
       "    .dataframe tbody tr th {\n",
       "        vertical-align: top;\n",
       "    }\n",
       "\n",
       "    .dataframe thead th {\n",
       "        text-align: right;\n",
       "    }\n",
       "</style>\n",
       "<table border=\"1\" class=\"dataframe\">\n",
       "  <thead>\n",
       "    <tr style=\"text-align: right;\">\n",
       "      <th></th>\n",
       "      <th>alot</th>\n",
       "      <th>also</th>\n",
       "      <th>eat</th>\n",
       "      <th>football</th>\n",
       "      <th>he</th>\n",
       "      <th>likes</th>\n",
       "      <th>mach</th>\n",
       "      <th>play</th>\n",
       "      <th>so</th>\n",
       "      <th>to</th>\n",
       "    </tr>\n",
       "  </thead>\n",
       "  <tbody>\n",
       "    <tr>\n",
       "      <th>0</th>\n",
       "      <td>0</td>\n",
       "      <td>0</td>\n",
       "      <td>0</td>\n",
       "      <td>1</td>\n",
       "      <td>1</td>\n",
       "      <td>1</td>\n",
       "      <td>1</td>\n",
       "      <td>1</td>\n",
       "      <td>2</td>\n",
       "      <td>1</td>\n",
       "    </tr>\n",
       "    <tr>\n",
       "      <th>1</th>\n",
       "      <td>1</td>\n",
       "      <td>1</td>\n",
       "      <td>1</td>\n",
       "      <td>0</td>\n",
       "      <td>1</td>\n",
       "      <td>0</td>\n",
       "      <td>0</td>\n",
       "      <td>0</td>\n",
       "      <td>1</td>\n",
       "      <td>0</td>\n",
       "    </tr>\n",
       "  </tbody>\n",
       "</table>\n",
       "</div>"
      ],
      "text/plain": [
       "   alot  also  eat  football  he  likes  mach  play  so  to\n",
       "0     0     0    0         1   1      1     1     1   2   1\n",
       "1     1     1    1         0   1      0     0     0   1   0"
      ]
     },
     "execution_count": 12,
     "metadata": {},
     "output_type": "execute_result"
    }
   ],
   "source": [
    "text1 = ['He likes to play football so so mach', 'He also so eat alot']\n",
    "\n",
    "cv = CountVectorizer()\n",
    "\n",
    "create_table(text1, cv)"
   ]
  },
  {
   "cell_type": "code",
   "execution_count": 13,
   "id": "643e93b7-3e14-4495-b08e-d91f967d1c61",
   "metadata": {},
   "outputs": [
    {
     "data": {
      "text/html": [
       "<div>\n",
       "<style scoped>\n",
       "    .dataframe tbody tr th:only-of-type {\n",
       "        vertical-align: middle;\n",
       "    }\n",
       "\n",
       "    .dataframe tbody tr th {\n",
       "        vertical-align: top;\n",
       "    }\n",
       "\n",
       "    .dataframe thead th {\n",
       "        text-align: right;\n",
       "    }\n",
       "</style>\n",
       "<table border=\"1\" class=\"dataframe\">\n",
       "  <thead>\n",
       "    <tr style=\"text-align: right;\">\n",
       "      <th></th>\n",
       "      <th>alot</th>\n",
       "      <th>also</th>\n",
       "      <th>eat</th>\n",
       "      <th>football</th>\n",
       "      <th>he</th>\n",
       "      <th>likes</th>\n",
       "      <th>mach</th>\n",
       "      <th>play</th>\n",
       "      <th>so</th>\n",
       "      <th>to</th>\n",
       "    </tr>\n",
       "  </thead>\n",
       "  <tbody>\n",
       "    <tr>\n",
       "      <th>0</th>\n",
       "      <td>0.000000</td>\n",
       "      <td>0.000000</td>\n",
       "      <td>0.000000</td>\n",
       "      <td>0.364391</td>\n",
       "      <td>0.259267</td>\n",
       "      <td>0.364391</td>\n",
       "      <td>0.364391</td>\n",
       "      <td>0.364391</td>\n",
       "      <td>0.518534</td>\n",
       "      <td>0.364391</td>\n",
       "    </tr>\n",
       "    <tr>\n",
       "      <th>1</th>\n",
       "      <td>0.499221</td>\n",
       "      <td>0.499221</td>\n",
       "      <td>0.499221</td>\n",
       "      <td>0.000000</td>\n",
       "      <td>0.355200</td>\n",
       "      <td>0.000000</td>\n",
       "      <td>0.000000</td>\n",
       "      <td>0.000000</td>\n",
       "      <td>0.355200</td>\n",
       "      <td>0.000000</td>\n",
       "    </tr>\n",
       "  </tbody>\n",
       "</table>\n",
       "</div>"
      ],
      "text/plain": [
       "       alot      also       eat  football        he     likes      mach  \\\n",
       "0  0.000000  0.000000  0.000000  0.364391  0.259267  0.364391  0.364391   \n",
       "1  0.499221  0.499221  0.499221  0.000000  0.355200  0.000000  0.000000   \n",
       "\n",
       "       play        so        to  \n",
       "0  0.364391  0.518534  0.364391  \n",
       "1  0.000000  0.355200  0.000000  "
      ]
     },
     "execution_count": 13,
     "metadata": {},
     "output_type": "execute_result"
    }
   ],
   "source": [
    "text1 = ['He likes to play football so so mach', 'He also so eat alot']\n",
    "\n",
    "tv = TfidfVectorizer()\n",
    "\n",
    "create_table(text1, tv)"
   ]
  },
  {
   "cell_type": "code",
   "execution_count": null,
   "id": "afcd6fdc-2ca8-4fcc-8d8c-e000e7839de3",
   "metadata": {},
   "outputs": [],
   "source": []
  }
 ],
 "metadata": {
  "kernelspec": {
   "display_name": "Python 3 (ipykernel)",
   "language": "python",
   "name": "python3"
  },
  "language_info": {
   "codemirror_mode": {
    "name": "ipython",
    "version": 3
   },
   "file_extension": ".py",
   "mimetype": "text/x-python",
   "name": "python",
   "nbconvert_exporter": "python",
   "pygments_lexer": "ipython3",
   "version": "3.10.13"
  }
 },
 "nbformat": 4,
 "nbformat_minor": 5
}
